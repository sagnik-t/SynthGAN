{
 "cells": [
  {
   "cell_type": "code",
   "execution_count": 1,
   "metadata": {},
   "outputs": [],
   "source": [
    "from pathlib import Path\n",
    "import numpy as np\n",
    "import pandas as pd\n",
    "from matplotlib import pyplot as plt\n",
    "import mplcyberpunk as mplnk"
   ]
  },
  {
   "cell_type": "code",
   "execution_count": 2,
   "metadata": {},
   "outputs": [
    {
     "name": "stderr",
     "output_type": "stream",
     "text": [
      "2024-06-29 22:00:34.646626: I tensorflow/core/util/port.cc:113] oneDNN custom operations are on. You may see slightly different numerical results due to floating-point round-off errors from different computation orders. To turn them off, set the environment variable `TF_ENABLE_ONEDNN_OPTS=0`.\n",
      "2024-06-29 22:00:34.658328: E external/local_xla/xla/stream_executor/cuda/cuda_fft.cc:479] Unable to register cuFFT factory: Attempting to register factory for plugin cuFFT when one has already been registered\n",
      "2024-06-29 22:00:34.675698: E external/local_xla/xla/stream_executor/cuda/cuda_dnn.cc:10575] Unable to register cuDNN factory: Attempting to register factory for plugin cuDNN when one has already been registered\n",
      "2024-06-29 22:00:34.675735: E external/local_xla/xla/stream_executor/cuda/cuda_blas.cc:1442] Unable to register cuBLAS factory: Attempting to register factory for plugin cuBLAS when one has already been registered\n",
      "2024-06-29 22:00:34.688498: I tensorflow/core/platform/cpu_feature_guard.cc:210] This TensorFlow binary is optimized to use available CPU instructions in performance-critical operations.\n",
      "To enable the following instructions: AVX2 AVX512F AVX512_VNNI FMA, in other operations, rebuild TensorFlow with the appropriate compiler flags.\n",
      "2024-06-29 22:00:35.790140: W tensorflow/compiler/tf2tensorrt/utils/py_utils.cc:38] TF-TRT Warning: Could not find TensorRT\n"
     ]
    }
   ],
   "source": [
    "import tensorflow as tf\n",
    "import keras\n",
    "from keras import Model, layers"
   ]
  },
  {
   "cell_type": "code",
   "execution_count": 3,
   "metadata": {},
   "outputs": [],
   "source": [
    "from config import Config\n",
    "from utils import DataLoader\n",
    "from models import DeepMF\n",
    "from models.layers import MinMaxNormalization"
   ]
  },
  {
   "cell_type": "code",
   "execution_count": 4,
   "metadata": {},
   "outputs": [],
   "source": [
    "def build_generator():\n",
    "    noise_dim = 100\n",
    "    latent_dim = 5\n",
    "    \n",
    "    inputs = layers.Input(shape=(noise_dim,), name='gen_input')\n",
    "    x = layers.Dense(units=10, name='dense_1')(inputs)\n",
    "    x = layers.LeakyReLU(negative_slope=0.2, name='leaky_relu_1')(x)\n",
    "    x = layers.BatchNormalization(momentum=0.8, name='batch_norm')(x)\n",
    "    x = layers.Dense(20, name='dense_2')(x)\n",
    "    x = layers.LeakyReLU(negative_slope=0.2, name='leaky_relu_2')(x)\n",
    "    x = layers.Dropout(rate=0.2, name='dropout')(x)\n",
    "    outputs = layers.Dense(units=latent_dim * 2 + 1, name='dense3')(x)\n",
    "    \n",
    "    return Model(inputs=inputs, outputs=outputs, name='generator')\n",
    "\n",
    "def build_discriminator():\n",
    "    latent_dim = 5\n",
    "    \n",
    "    inputs = layers.Input(shape=(latent_dim * 2 + 1,), name='disc_input')\n",
    "    x = layers.Dense(units=4, name='dense4')(inputs)\n",
    "    x = layers.LeakyReLU(negative_slope=0.2, name='leaky_relu1')(x)\n",
    "    x = layers.Dense(units=1, name='dense5')(x)\n",
    "    x = layers.Activation('sigmoid', name='sigmoid')(x)\n",
    "\n",
    "    return Model(inputs=inputs, outputs=x, name='discriminator')"
   ]
  },
  {
   "cell_type": "code",
   "execution_count": 7,
   "metadata": {},
   "outputs": [
    {
     "data": {
      "text/plain": [
       "True"
      ]
     },
     "execution_count": 7,
     "metadata": {},
     "output_type": "execute_result"
    }
   ],
   "source": [
    "\n",
    "from pipe.pipeline import TrainingPipeline\n",
    "from pipe import Trainer, Transform\n",
    "from func import run_deepmf, run_gan\n",
    "\n",
    "deepmf = Transform(\n",
    "    name='deepmf',\n",
    "    run_fn=run_deepmf,\n",
    "    params={\n",
    "        'epochs': 10,\n",
    "        'batch_size': 32,\n",
    "        'validation_freq': 3\n",
    "    }\n",
    ")\n",
    "\n",
    "gan = Trainer(\n",
    "    name='gan',\n",
    "    run_fn=run_gan,\n",
    "    params={\n",
    "        'epochs': 30,\n",
    "        'batch_size': 32,\n",
    "        'noise_dim': 100,\n",
    "        'generator': build_generator(),\n",
    "        'discriminator': build_discriminator()\n",
    "    }\n",
    ")\n",
    "\n",
    "pipeline = TrainingPipeline(\n",
    "    train_set=DataLoader.load_numpy()[:2],\n",
    "    val_set=DataLoader.load_numpy()[2:],\n",
    "    components=[\n",
    "        deepmf,\n",
    "        gan\n",
    "    ],\n",
    "    resume=True\n",
    ")\n",
    "\n",
    "pipeline.get_component('gan')._ran"
   ]
  },
  {
   "cell_type": "code",
   "execution_count": 5,
   "metadata": {},
   "outputs": [],
   "source": [
    "STD_DEV = 1.5 # You can stablish the fake samples variability by setting this value\n",
    "noise = np.random.normal(0, STD_DEV, (50000, 100))"
   ]
  },
  {
   "cell_type": "code",
   "execution_count": 6,
   "metadata": {},
   "outputs": [
    {
     "ename": "NameError",
     "evalue": "name 'pipeline' is not defined",
     "output_type": "error",
     "traceback": [
      "\u001b[0;31m---------------------------------------------------------------------------\u001b[0m",
      "\u001b[0;31mNameError\u001b[0m                                 Traceback (most recent call last)",
      "Cell \u001b[0;32mIn[6], line 1\u001b[0m\n\u001b[0;32m----> 1\u001b[0m gen_data \u001b[38;5;241m=\u001b[39m \u001b[43mpipeline\u001b[49m\u001b[38;5;241m.\u001b[39minfer(noise)\n",
      "\u001b[0;31mNameError\u001b[0m: name 'pipeline' is not defined"
     ]
    }
   ],
   "source": [
    "gen_data = pipeline.infer(noise)"
   ]
  },
  {
   "cell_type": "code",
   "execution_count": 8,
   "metadata": {},
   "outputs": [
    {
     "ename": "TypeError",
     "evalue": "'tensorflow.python.framework.ops.EagerTensor' object does not support item assignment",
     "output_type": "error",
     "traceback": [
      "\u001b[0;31m---------------------------------------------------------------------------\u001b[0m",
      "\u001b[0;31mTypeError\u001b[0m                                 Traceback (most recent call last)",
      "Cell \u001b[0;32mIn[8], line 1\u001b[0m\n\u001b[0;32m----> 1\u001b[0m \u001b[43mgen_data\u001b[49m\u001b[43m[\u001b[49m\u001b[43m:\u001b[49m\u001b[43m,\u001b[49m\u001b[43m \u001b[49m\u001b[38;5;241;43m-\u001b[39;49m\u001b[38;5;241;43m1\u001b[39;49m\u001b[43m]\u001b[49m \u001b[38;5;241m=\u001b[39m MinMaxNormalization(min_val\u001b[38;5;241m=\u001b[39m\u001b[38;5;241m0\u001b[39m, max_val\u001b[38;5;241m=\u001b[39m\u001b[38;5;241m5\u001b[39m)(gen_data[:, \u001b[38;5;241m-\u001b[39m\u001b[38;5;241m1\u001b[39m])\u001b[38;5;241m.\u001b[39mnumpy()\n",
      "\u001b[0;31mTypeError\u001b[0m: 'tensorflow.python.framework.ops.EagerTensor' object does not support item assignment"
     ]
    }
   ],
   "source": [
    "gen_data[:, -1] = MinMaxNormalization(min_val=0, max_val=5)(gen_data[:, -1]).numpy()"
   ]
  },
  {
   "cell_type": "code",
   "execution_count": 7,
   "metadata": {},
   "outputs": [
    {
     "name": "stderr",
     "output_type": "stream",
     "text": [
      "2024-06-29 17:17:05.769658: I external/local_xla/xla/stream_executor/cuda/cuda_executor.cc:998] successful NUMA node read from SysFS had negative value (-1), but there must be at least one NUMA node, so returning NUMA node zero. See more at https://github.com/torvalds/linux/blob/v6.0/Documentation/ABI/testing/sysfs-bus-pci#L344-L355\n",
      "2024-06-29 17:17:05.810014: I external/local_xla/xla/stream_executor/cuda/cuda_executor.cc:998] successful NUMA node read from SysFS had negative value (-1), but there must be at least one NUMA node, so returning NUMA node zero. See more at https://github.com/torvalds/linux/blob/v6.0/Documentation/ABI/testing/sysfs-bus-pci#L344-L355\n",
      "2024-06-29 17:17:05.810184: I external/local_xla/xla/stream_executor/cuda/cuda_executor.cc:998] successful NUMA node read from SysFS had negative value (-1), but there must be at least one NUMA node, so returning NUMA node zero. See more at https://github.com/torvalds/linux/blob/v6.0/Documentation/ABI/testing/sysfs-bus-pci#L344-L355\n",
      "2024-06-29 17:17:05.811136: I external/local_xla/xla/stream_executor/cuda/cuda_executor.cc:998] successful NUMA node read from SysFS had negative value (-1), but there must be at least one NUMA node, so returning NUMA node zero. See more at https://github.com/torvalds/linux/blob/v6.0/Documentation/ABI/testing/sysfs-bus-pci#L344-L355\n",
      "2024-06-29 17:17:05.811269: I external/local_xla/xla/stream_executor/cuda/cuda_executor.cc:998] successful NUMA node read from SysFS had negative value (-1), but there must be at least one NUMA node, so returning NUMA node zero. See more at https://github.com/torvalds/linux/blob/v6.0/Documentation/ABI/testing/sysfs-bus-pci#L344-L355\n",
      "2024-06-29 17:17:05.811344: I external/local_xla/xla/stream_executor/cuda/cuda_executor.cc:998] successful NUMA node read from SysFS had negative value (-1), but there must be at least one NUMA node, so returning NUMA node zero. See more at https://github.com/torvalds/linux/blob/v6.0/Documentation/ABI/testing/sysfs-bus-pci#L344-L355\n",
      "2024-06-29 17:17:05.890952: I external/local_xla/xla/stream_executor/cuda/cuda_executor.cc:998] successful NUMA node read from SysFS had negative value (-1), but there must be at least one NUMA node, so returning NUMA node zero. See more at https://github.com/torvalds/linux/blob/v6.0/Documentation/ABI/testing/sysfs-bus-pci#L344-L355\n",
      "2024-06-29 17:17:05.891203: I external/local_xla/xla/stream_executor/cuda/cuda_executor.cc:998] successful NUMA node read from SysFS had negative value (-1), but there must be at least one NUMA node, so returning NUMA node zero. See more at https://github.com/torvalds/linux/blob/v6.0/Documentation/ABI/testing/sysfs-bus-pci#L344-L355\n",
      "2024-06-29 17:17:05.891348: I external/local_xla/xla/stream_executor/cuda/cuda_executor.cc:998] successful NUMA node read from SysFS had negative value (-1), but there must be at least one NUMA node, so returning NUMA node zero. See more at https://github.com/torvalds/linux/blob/v6.0/Documentation/ABI/testing/sysfs-bus-pci#L344-L355\n",
      "2024-06-29 17:17:05.891469: I tensorflow/core/common_runtime/gpu/gpu_device.cc:1928] Created device /job:localhost/replica:0/task:0/device:GPU:0 with 2291 MB memory:  -> device: 0, name: NVIDIA GeForce RTX 3050 Laptop GPU, pci bus id: 0000:01:00.0, compute capability: 8.6\n"
     ]
    },
    {
     "ename": "KeyError",
     "evalue": "'class_name'",
     "output_type": "error",
     "traceback": [
      "\u001b[0;31m---------------------------------------------------------------------------\u001b[0m",
      "\u001b[0;31mKeyError\u001b[0m                                  Traceback (most recent call last)",
      "Cell \u001b[0;32mIn[7], line 1\u001b[0m\n\u001b[0;32m----> 1\u001b[0m gan \u001b[38;5;241m=\u001b[39m \u001b[43mkeras\u001b[49m\u001b[38;5;241;43m.\u001b[39;49m\u001b[43mmodels\u001b[49m\u001b[38;5;241;43m.\u001b[39;49m\u001b[43mload_model\u001b[49m\u001b[43m(\u001b[49m\u001b[43mConfig\u001b[49m\u001b[38;5;241;43m.\u001b[39;49m\u001b[43mPaths\u001b[49m\u001b[38;5;241;43m.\u001b[39;49m\u001b[43mREGISTRY_PATH\u001b[49m\u001b[38;5;241;43m.\u001b[39;49m\u001b[43mjoinpath\u001b[49m\u001b[43m(\u001b[49m\u001b[38;5;124;43m'\u001b[39;49m\u001b[38;5;124;43mgan.keras\u001b[39;49m\u001b[38;5;124;43m'\u001b[39;49m\u001b[43m)\u001b[49m\u001b[43m,\u001b[49m\u001b[43m \u001b[49m\u001b[38;5;28;43mcompile\u001b[39;49m\u001b[38;5;241;43m=\u001b[39;49m\u001b[38;5;28;43;01mTrue\u001b[39;49;00m\u001b[43m)\u001b[49m\n",
      "File \u001b[0;32m/mnt/14BEB52FBEB509EE/Projects/SynthGAN/.venv/lib/python3.11/site-packages/keras/src/saving/saving_api.py:182\u001b[0m, in \u001b[0;36mload_model\u001b[0;34m(filepath, custom_objects, compile, safe_mode)\u001b[0m\n\u001b[1;32m    179\u001b[0m         is_keras_zip \u001b[38;5;241m=\u001b[39m \u001b[38;5;28;01mTrue\u001b[39;00m\n\u001b[1;32m    181\u001b[0m \u001b[38;5;28;01mif\u001b[39;00m is_keras_zip \u001b[38;5;129;01mor\u001b[39;00m is_keras_dir:\n\u001b[0;32m--> 182\u001b[0m     \u001b[38;5;28;01mreturn\u001b[39;00m \u001b[43msaving_lib\u001b[49m\u001b[38;5;241;43m.\u001b[39;49m\u001b[43mload_model\u001b[49m\u001b[43m(\u001b[49m\n\u001b[1;32m    183\u001b[0m \u001b[43m        \u001b[49m\u001b[43mfilepath\u001b[49m\u001b[43m,\u001b[49m\n\u001b[1;32m    184\u001b[0m \u001b[43m        \u001b[49m\u001b[43mcustom_objects\u001b[49m\u001b[38;5;241;43m=\u001b[39;49m\u001b[43mcustom_objects\u001b[49m\u001b[43m,\u001b[49m\n\u001b[1;32m    185\u001b[0m \u001b[43m        \u001b[49m\u001b[38;5;28;43mcompile\u001b[39;49m\u001b[38;5;241;43m=\u001b[39;49m\u001b[38;5;28;43mcompile\u001b[39;49m\u001b[43m,\u001b[49m\n\u001b[1;32m    186\u001b[0m \u001b[43m        \u001b[49m\u001b[43msafe_mode\u001b[49m\u001b[38;5;241;43m=\u001b[39;49m\u001b[43msafe_mode\u001b[49m\u001b[43m,\u001b[49m\n\u001b[1;32m    187\u001b[0m \u001b[43m    \u001b[49m\u001b[43m)\u001b[49m\n\u001b[1;32m    188\u001b[0m \u001b[38;5;28;01mif\u001b[39;00m \u001b[38;5;28mstr\u001b[39m(filepath)\u001b[38;5;241m.\u001b[39mendswith((\u001b[38;5;124m\"\u001b[39m\u001b[38;5;124m.h5\u001b[39m\u001b[38;5;124m\"\u001b[39m, \u001b[38;5;124m\"\u001b[39m\u001b[38;5;124m.hdf5\u001b[39m\u001b[38;5;124m\"\u001b[39m)):\n\u001b[1;32m    189\u001b[0m     \u001b[38;5;28;01mreturn\u001b[39;00m legacy_h5_format\u001b[38;5;241m.\u001b[39mload_model_from_hdf5(\n\u001b[1;32m    190\u001b[0m         filepath, custom_objects\u001b[38;5;241m=\u001b[39mcustom_objects, \u001b[38;5;28mcompile\u001b[39m\u001b[38;5;241m=\u001b[39m\u001b[38;5;28mcompile\u001b[39m\n\u001b[1;32m    191\u001b[0m     )\n",
      "File \u001b[0;32m/mnt/14BEB52FBEB509EE/Projects/SynthGAN/.venv/lib/python3.11/site-packages/keras/src/saving/saving_lib.py:237\u001b[0m, in \u001b[0;36mload_model\u001b[0;34m(filepath, custom_objects, compile, safe_mode)\u001b[0m\n\u001b[1;32m    232\u001b[0m     \u001b[38;5;28;01mraise\u001b[39;00m \u001b[38;5;167;01mValueError\u001b[39;00m(\n\u001b[1;32m    233\u001b[0m         \u001b[38;5;124m\"\u001b[39m\u001b[38;5;124mInvalid filename: expected a `.keras` extension. \u001b[39m\u001b[38;5;124m\"\u001b[39m\n\u001b[1;32m    234\u001b[0m         \u001b[38;5;124mf\u001b[39m\u001b[38;5;124m\"\u001b[39m\u001b[38;5;124mReceived: filepath=\u001b[39m\u001b[38;5;132;01m{\u001b[39;00mfilepath\u001b[38;5;132;01m}\u001b[39;00m\u001b[38;5;124m\"\u001b[39m\n\u001b[1;32m    235\u001b[0m     )\n\u001b[1;32m    236\u001b[0m \u001b[38;5;28;01mwith\u001b[39;00m \u001b[38;5;28mopen\u001b[39m(filepath, \u001b[38;5;124m\"\u001b[39m\u001b[38;5;124mrb\u001b[39m\u001b[38;5;124m\"\u001b[39m) \u001b[38;5;28;01mas\u001b[39;00m f:\n\u001b[0;32m--> 237\u001b[0m     \u001b[38;5;28;01mreturn\u001b[39;00m \u001b[43m_load_model_from_fileobj\u001b[49m\u001b[43m(\u001b[49m\n\u001b[1;32m    238\u001b[0m \u001b[43m        \u001b[49m\u001b[43mf\u001b[49m\u001b[43m,\u001b[49m\u001b[43m \u001b[49m\u001b[43mcustom_objects\u001b[49m\u001b[43m,\u001b[49m\u001b[43m \u001b[49m\u001b[38;5;28;43mcompile\u001b[39;49m\u001b[43m,\u001b[49m\u001b[43m \u001b[49m\u001b[43msafe_mode\u001b[49m\n\u001b[1;32m    239\u001b[0m \u001b[43m    \u001b[49m\u001b[43m)\u001b[49m\n",
      "File \u001b[0;32m/mnt/14BEB52FBEB509EE/Projects/SynthGAN/.venv/lib/python3.11/site-packages/keras/src/saving/saving_lib.py:314\u001b[0m, in \u001b[0;36m_load_model_from_fileobj\u001b[0;34m(fileobj, custom_objects, compile, safe_mode)\u001b[0m\n\u001b[1;32m    311\u001b[0m \u001b[38;5;28;01mwith\u001b[39;00m zf\u001b[38;5;241m.\u001b[39mopen(_CONFIG_FILENAME, \u001b[38;5;124m\"\u001b[39m\u001b[38;5;124mr\u001b[39m\u001b[38;5;124m\"\u001b[39m) \u001b[38;5;28;01mas\u001b[39;00m f:\n\u001b[1;32m    312\u001b[0m     config_json \u001b[38;5;241m=\u001b[39m f\u001b[38;5;241m.\u001b[39mread()\n\u001b[0;32m--> 314\u001b[0m model \u001b[38;5;241m=\u001b[39m \u001b[43m_model_from_config\u001b[49m\u001b[43m(\u001b[49m\n\u001b[1;32m    315\u001b[0m \u001b[43m    \u001b[49m\u001b[43mconfig_json\u001b[49m\u001b[43m,\u001b[49m\u001b[43m \u001b[49m\u001b[43mcustom_objects\u001b[49m\u001b[43m,\u001b[49m\u001b[43m \u001b[49m\u001b[38;5;28;43mcompile\u001b[39;49m\u001b[43m,\u001b[49m\u001b[43m \u001b[49m\u001b[43msafe_mode\u001b[49m\n\u001b[1;32m    316\u001b[0m \u001b[43m\u001b[49m\u001b[43m)\u001b[49m\n\u001b[1;32m    318\u001b[0m all_filenames \u001b[38;5;241m=\u001b[39m zf\u001b[38;5;241m.\u001b[39mnamelist()\n\u001b[1;32m    319\u001b[0m weights_file_path \u001b[38;5;241m=\u001b[39m \u001b[38;5;28;01mNone\u001b[39;00m\n",
      "File \u001b[0;32m/mnt/14BEB52FBEB509EE/Projects/SynthGAN/.venv/lib/python3.11/site-packages/keras/src/saving/saving_lib.py:303\u001b[0m, in \u001b[0;36m_model_from_config\u001b[0;34m(config_json, custom_objects, compile, safe_mode)\u001b[0m\n\u001b[1;32m    301\u001b[0m \u001b[38;5;66;03m# Construct the model from the configuration file in the archive.\u001b[39;00m\n\u001b[1;32m    302\u001b[0m \u001b[38;5;28;01mwith\u001b[39;00m ObjectSharingScope():\n\u001b[0;32m--> 303\u001b[0m     model \u001b[38;5;241m=\u001b[39m \u001b[43mdeserialize_keras_object\u001b[49m\u001b[43m(\u001b[49m\n\u001b[1;32m    304\u001b[0m \u001b[43m        \u001b[49m\u001b[43mconfig_dict\u001b[49m\u001b[43m,\u001b[49m\u001b[43m \u001b[49m\u001b[43mcustom_objects\u001b[49m\u001b[43m,\u001b[49m\u001b[43m \u001b[49m\u001b[43msafe_mode\u001b[49m\u001b[38;5;241;43m=\u001b[39;49m\u001b[43msafe_mode\u001b[49m\n\u001b[1;32m    305\u001b[0m \u001b[43m    \u001b[49m\u001b[43m)\u001b[49m\n\u001b[1;32m    306\u001b[0m \u001b[38;5;28;01mreturn\u001b[39;00m model\n",
      "File \u001b[0;32m/mnt/14BEB52FBEB509EE/Projects/SynthGAN/.venv/lib/python3.11/site-packages/keras/src/saving/serialization_lib.py:734\u001b[0m, in \u001b[0;36mdeserialize_keras_object\u001b[0;34m(config, custom_objects, safe_mode, **kwargs)\u001b[0m\n\u001b[1;32m    732\u001b[0m     compile_config \u001b[38;5;241m=\u001b[39m config\u001b[38;5;241m.\u001b[39mget(\u001b[38;5;124m\"\u001b[39m\u001b[38;5;124mcompile_config\u001b[39m\u001b[38;5;124m\"\u001b[39m, \u001b[38;5;28;01mNone\u001b[39;00m)\n\u001b[1;32m    733\u001b[0m     \u001b[38;5;28;01mif\u001b[39;00m compile_config:\n\u001b[0;32m--> 734\u001b[0m         \u001b[43minstance\u001b[49m\u001b[38;5;241;43m.\u001b[39;49m\u001b[43mcompile_from_config\u001b[49m\u001b[43m(\u001b[49m\u001b[43mcompile_config\u001b[49m\u001b[43m)\u001b[49m\n\u001b[1;32m    735\u001b[0m         instance\u001b[38;5;241m.\u001b[39mcompiled \u001b[38;5;241m=\u001b[39m \u001b[38;5;28;01mTrue\u001b[39;00m\n\u001b[1;32m    737\u001b[0m \u001b[38;5;28;01mif\u001b[39;00m \u001b[38;5;124m\"\u001b[39m\u001b[38;5;124mshared_object_id\u001b[39m\u001b[38;5;124m\"\u001b[39m \u001b[38;5;129;01min\u001b[39;00m config:\n",
      "File \u001b[0;32m/mnt/14BEB52FBEB509EE/Projects/SynthGAN/src/models/gan.py:51\u001b[0m, in \u001b[0;36mGAN.compile_from_config\u001b[0;34m(self, config)\u001b[0m\n\u001b[1;32m     50\u001b[0m \u001b[38;5;28;01mdef\u001b[39;00m \u001b[38;5;21mcompile_from_config\u001b[39m(\u001b[38;5;28mself\u001b[39m, config: Dict):\n\u001b[0;32m---> 51\u001b[0m     gen_optimizer \u001b[38;5;241m=\u001b[39m \u001b[43moptimizers\u001b[49m\u001b[38;5;241;43m.\u001b[39;49m\u001b[43mdeserialize\u001b[49m\u001b[43m(\u001b[49m\u001b[43mconfig\u001b[49m\u001b[38;5;241;43m.\u001b[39;49m\u001b[43mpop\u001b[49m\u001b[43m(\u001b[49m\u001b[38;5;124;43m'\u001b[39;49m\u001b[38;5;124;43mgen_optimizer\u001b[39;49m\u001b[38;5;124;43m'\u001b[39;49m\u001b[43m)\u001b[49m\u001b[43m)\u001b[49m\n\u001b[1;32m     52\u001b[0m     disc_optimizer \u001b[38;5;241m=\u001b[39m optimizers\u001b[38;5;241m.\u001b[39mdeserialize(config\u001b[38;5;241m.\u001b[39mpop(\u001b[38;5;124m'\u001b[39m\u001b[38;5;124mdisc_optimizer\u001b[39m\u001b[38;5;124m'\u001b[39m))\n\u001b[1;32m     53\u001b[0m     \u001b[38;5;28mself\u001b[39m\u001b[38;5;241m.\u001b[39mcompile(\n\u001b[1;32m     54\u001b[0m         gen_optimizer\u001b[38;5;241m=\u001b[39mgen_optimizer,\n\u001b[1;32m     55\u001b[0m         disc_optimizer\u001b[38;5;241m=\u001b[39mdisc_optimizer,\n\u001b[1;32m     56\u001b[0m         \u001b[38;5;241m*\u001b[39m\u001b[38;5;241m*\u001b[39mconfig\n\u001b[1;32m     57\u001b[0m     )\n",
      "File \u001b[0;32m/mnt/14BEB52FBEB509EE/Projects/SynthGAN/.venv/lib/python3.11/site-packages/keras/src/optimizers/__init__.py:62\u001b[0m, in \u001b[0;36mdeserialize\u001b[0;34m(config, custom_objects)\u001b[0m\n\u001b[1;32m     50\u001b[0m \u001b[38;5;250m\u001b[39m\u001b[38;5;124;03m\"\"\"Returns a Keras optimizer object via its configuration.\u001b[39;00m\n\u001b[1;32m     51\u001b[0m \n\u001b[1;32m     52\u001b[0m \u001b[38;5;124;03mArgs:\u001b[39;00m\n\u001b[0;32m   (...)\u001b[0m\n\u001b[1;32m     59\u001b[0m \u001b[38;5;124;03m    A Keras Optimizer instance.\u001b[39;00m\n\u001b[1;32m     60\u001b[0m \u001b[38;5;124;03m\"\"\"\u001b[39;00m\n\u001b[1;32m     61\u001b[0m \u001b[38;5;66;03m# Make deserialization case-insensitive for built-in optimizers.\u001b[39;00m\n\u001b[0;32m---> 62\u001b[0m \u001b[38;5;28;01mif\u001b[39;00m \u001b[43mconfig\u001b[49m\u001b[43m[\u001b[49m\u001b[38;5;124;43m\"\u001b[39;49m\u001b[38;5;124;43mclass_name\u001b[39;49m\u001b[38;5;124;43m\"\u001b[39;49m\u001b[43m]\u001b[49m\u001b[38;5;241m.\u001b[39mlower() \u001b[38;5;129;01min\u001b[39;00m ALL_OBJECTS_DICT:\n\u001b[1;32m     63\u001b[0m     config[\u001b[38;5;124m\"\u001b[39m\u001b[38;5;124mclass_name\u001b[39m\u001b[38;5;124m\"\u001b[39m] \u001b[38;5;241m=\u001b[39m config[\u001b[38;5;124m\"\u001b[39m\u001b[38;5;124mclass_name\u001b[39m\u001b[38;5;124m\"\u001b[39m]\u001b[38;5;241m.\u001b[39mlower()\n\u001b[1;32m     65\u001b[0m \u001b[38;5;28;01mreturn\u001b[39;00m serialization_lib\u001b[38;5;241m.\u001b[39mdeserialize_keras_object(\n\u001b[1;32m     66\u001b[0m     config,\n\u001b[1;32m     67\u001b[0m     module_objects\u001b[38;5;241m=\u001b[39mALL_OBJECTS_DICT,\n\u001b[1;32m     68\u001b[0m     custom_objects\u001b[38;5;241m=\u001b[39mcustom_objects,\n\u001b[1;32m     69\u001b[0m )\n",
      "\u001b[0;31mKeyError\u001b[0m: 'class_name'"
     ]
    }
   ],
   "source": [
    "gan = keras.models.load_model(Config.Paths.REGISTRY_PATH.joinpath('gan.keras'), compile=True)"
   ]
  },
  {
   "cell_type": "code",
   "execution_count": 18,
   "metadata": {},
   "outputs": [],
   "source": [
    "gen_data = gan.predict(noise).numpy()"
   ]
  },
  {
   "cell_type": "code",
   "execution_count": 19,
   "metadata": {},
   "outputs": [],
   "source": [
    "gen_data[:, -1] = MinMaxNormalization(min_val=0, max_val=5)(gen_data[:, -1]).numpy()"
   ]
  },
  {
   "cell_type": "code",
   "execution_count": 20,
   "metadata": {},
   "outputs": [
    {
     "data": {
      "text/plain": [
       "array([[-9.061792  ,  2.9604473 , -4.40579   , ...,  2.0674753 ,\n",
       "         1.1013422 ,  1.3882006 ],\n",
       "       [-9.217667  ,  2.982888  , -4.3641424 , ...,  2.5260642 ,\n",
       "         1.0886183 ,  2.2084162 ],\n",
       "       [-8.896546  ,  2.6955996 , -3.568869  , ...,  2.181765  ,\n",
       "         0.89123124,  1.7055979 ],\n",
       "       ...,\n",
       "       [-9.240618  ,  2.6341112 , -3.3408842 , ...,  2.215017  ,\n",
       "         0.872881  ,  2.201088  ],\n",
       "       [-8.843365  ,  2.7246308 , -3.684329  , ...,  2.3601704 ,\n",
       "         0.9397934 ,  2.0147443 ],\n",
       "       [-8.862244  ,  2.6569436 , -3.4088602 , ...,  2.285503  ,\n",
       "         0.8033038 ,  1.8684433 ]], dtype=float32)"
      ]
     },
     "execution_count": 20,
     "metadata": {},
     "output_type": "execute_result"
    }
   ],
   "source": [
    "gen_data"
   ]
  },
  {
   "cell_type": "code",
   "execution_count": null,
   "metadata": {},
   "outputs": [],
   "source": [
    "df = DataLoader().load_train_data()"
   ]
  },
  {
   "cell_type": "code",
   "execution_count": null,
   "metadata": {},
   "outputs": [],
   "source": [
    "plt.style.use('cyberpunk')"
   ]
  },
  {
   "cell_type": "code",
   "execution_count": null,
   "metadata": {},
   "outputs": [],
   "source": [
    "def plot_ratings_distribution(df):\n",
    "    plt.figure(figsize=(10, 5))\n",
    "\n",
    "    value_counts = df['rating'].value_counts()\n",
    "    bars = plt.bar(x=value_counts.index, height=value_counts.values)\n",
    "    percantages = value_counts / value_counts.sum() * 100\n",
    "\n",
    "    font_dict = {\n",
    "        'fontweight': 'normal',\n",
    "        'fontfamily': 'sans-serif',\n",
    "        'fontsize': 10,\n",
    "        'color': 'white'\n",
    "    }\n",
    "\n",
    "    for bar, percantage in zip(bars, percantages):\n",
    "        height = bar.get_height()\n",
    "        plt.text(bar.get_x() + bar.get_width() / 2, height, f'{percantage:.2f}%', ha='center', va='bottom', fontdict=font_dict)\n",
    "\n",
    "    mplnk.add_bar_gradient(bars)\n",
    "\n",
    "    plt.xlabel('Rating', fontweight='bold')\n",
    "    plt.show()"
   ]
  },
  {
   "cell_type": "code",
   "execution_count": null,
   "metadata": {},
   "outputs": [],
   "source": [
    "from utils.data_loader import DataLoader"
   ]
  },
  {
   "cell_type": "code",
   "execution_count": null,
   "metadata": {},
   "outputs": [],
   "source": [
    "df = DataLoader().load_train_data()"
   ]
  },
  {
   "cell_type": "code",
   "execution_count": null,
   "metadata": {},
   "outputs": [],
   "source": [
    "df.rename(columns={\n",
    "    'user_id': 'user',\n",
    "    'item_id': 'item'\n",
    "}, inplace=True)"
   ]
  },
  {
   "cell_type": "code",
   "execution_count": null,
   "metadata": {},
   "outputs": [
    {
     "data": {
      "text/html": [
       "<div>\n",
       "<style scoped>\n",
       "    .dataframe tbody tr th:only-of-type {\n",
       "        vertical-align: middle;\n",
       "    }\n",
       "\n",
       "    .dataframe tbody tr th {\n",
       "        vertical-align: top;\n",
       "    }\n",
       "\n",
       "    .dataframe thead th {\n",
       "        text-align: right;\n",
       "    }\n",
       "</style>\n",
       "<table border=\"1\" class=\"dataframe\">\n",
       "  <thead>\n",
       "    <tr style=\"text-align: right;\">\n",
       "      <th></th>\n",
       "      <th>user</th>\n",
       "      <th>item</th>\n",
       "      <th>rating</th>\n",
       "    </tr>\n",
       "  </thead>\n",
       "  <tbody>\n",
       "    <tr>\n",
       "      <th>0</th>\n",
       "      <td>716</td>\n",
       "      <td>836</td>\n",
       "      <td>4</td>\n",
       "    </tr>\n",
       "    <tr>\n",
       "      <th>1</th>\n",
       "      <td>620</td>\n",
       "      <td>422</td>\n",
       "      <td>1</td>\n",
       "    </tr>\n",
       "    <tr>\n",
       "      <th>2</th>\n",
       "      <td>547</td>\n",
       "      <td>289</td>\n",
       "      <td>3</td>\n",
       "    </tr>\n",
       "    <tr>\n",
       "      <th>3</th>\n",
       "      <td>758</td>\n",
       "      <td>385</td>\n",
       "      <td>4</td>\n",
       "    </tr>\n",
       "    <tr>\n",
       "      <th>4</th>\n",
       "      <td>627</td>\n",
       "      <td>197</td>\n",
       "      <td>5</td>\n",
       "    </tr>\n",
       "    <tr>\n",
       "      <th>...</th>\n",
       "      <td>...</td>\n",
       "      <td>...</td>\n",
       "      <td>...</td>\n",
       "    </tr>\n",
       "    <tr>\n",
       "      <th>79995</th>\n",
       "      <td>336</td>\n",
       "      <td>628</td>\n",
       "      <td>3</td>\n",
       "    </tr>\n",
       "    <tr>\n",
       "      <th>79996</th>\n",
       "      <td>749</td>\n",
       "      <td>637</td>\n",
       "      <td>1</td>\n",
       "    </tr>\n",
       "    <tr>\n",
       "      <th>79997</th>\n",
       "      <td>758</td>\n",
       "      <td>313</td>\n",
       "      <td>4</td>\n",
       "    </tr>\n",
       "    <tr>\n",
       "      <th>79998</th>\n",
       "      <td>380</td>\n",
       "      <td>139</td>\n",
       "      <td>1</td>\n",
       "    </tr>\n",
       "    <tr>\n",
       "      <th>79999</th>\n",
       "      <td>231</td>\n",
       "      <td>151</td>\n",
       "      <td>1</td>\n",
       "    </tr>\n",
       "  </tbody>\n",
       "</table>\n",
       "<p>80000 rows × 3 columns</p>\n",
       "</div>"
      ],
      "text/plain": [
       "       user  item  rating\n",
       "0       716   836       4\n",
       "1       620   422       1\n",
       "2       547   289       3\n",
       "3       758   385       4\n",
       "4       627   197       5\n",
       "...     ...   ...     ...\n",
       "79995   336   628       3\n",
       "79996   749   637       1\n",
       "79997   758   313       4\n",
       "79998   380   139       1\n",
       "79999   231   151       1\n",
       "\n",
       "[80000 rows x 3 columns]"
      ]
     },
     "execution_count": 51,
     "metadata": {},
     "output_type": "execute_result"
    }
   ],
   "source": [
    "df"
   ]
  },
  {
   "cell_type": "code",
   "execution_count": null,
   "metadata": {},
   "outputs": [
    {
     "data": {
      "image/png": "[encoded data removed]",
      "text/plain": [
       "<Figure size 1000x500 with 1 Axes>"
      ]
     },
     "metadata": {},
     "output_type": "display_data"
    }
   ],
   "source": [
    "plot_ratings_distribution(df)"
   ]
  },
  {
   "cell_type": "code",
   "execution_count": null,
   "metadata": {},
   "outputs": [],
   "source": [
    "synth_df = pd.read_csv('../gen/synthetic_50000_500_1000.txt')"
   ]
  },
  {
   "cell_type": "code",
   "execution_count": null,
   "metadata": {},
   "outputs": [],
   "source": [
    "synth_df = synth_df.astype({'rating': 'int32'})"
   ]
  },
  {
   "cell_type": "code",
   "execution_count": null,
   "metadata": {},
   "outputs": [
    {
     "data": {
      "image/png": "[encoded data removed]",
      "text/plain": [
       "<Figure size 1000x500 with 1 Axes>"
      ]
     },
     "metadata": {},
     "output_type": "display_data"
    }
   ],
   "source": [
    "plot_ratings_distribution(synth_df)"
   ]
  },
  {
   "cell_type": "code",
   "execution_count": null,
   "metadata": {},
   "outputs": [
    {
     "data": {
      "text/html": [
       "<div>\n",
       "<style scoped>\n",
       "    .dataframe tbody tr th:only-of-type {\n",
       "        vertical-align: middle;\n",
       "    }\n",
       "\n",
       "    .dataframe tbody tr th {\n",
       "        vertical-align: top;\n",
       "    }\n",
       "\n",
       "    .dataframe thead th {\n",
       "        text-align: right;\n",
       "    }\n",
       "</style>\n",
       "<table border=\"1\" class=\"dataframe\">\n",
       "  <thead>\n",
       "    <tr style=\"text-align: right;\">\n",
       "      <th></th>\n",
       "      <th>user</th>\n",
       "      <th>item</th>\n",
       "      <th>rating</th>\n",
       "    </tr>\n",
       "  </thead>\n",
       "  <tbody>\n",
       "    <tr>\n",
       "      <th>0</th>\n",
       "      <td>186</td>\n",
       "      <td>60</td>\n",
       "      <td>1</td>\n",
       "    </tr>\n",
       "    <tr>\n",
       "      <th>1</th>\n",
       "      <td>424</td>\n",
       "      <td>947</td>\n",
       "      <td>1</td>\n",
       "    </tr>\n",
       "    <tr>\n",
       "      <th>2</th>\n",
       "      <td>29</td>\n",
       "      <td>185</td>\n",
       "      <td>3</td>\n",
       "    </tr>\n",
       "    <tr>\n",
       "      <th>3</th>\n",
       "      <td>207</td>\n",
       "      <td>911</td>\n",
       "      <td>1</td>\n",
       "    </tr>\n",
       "    <tr>\n",
       "      <th>4</th>\n",
       "      <td>277</td>\n",
       "      <td>302</td>\n",
       "      <td>4</td>\n",
       "    </tr>\n",
       "    <tr>\n",
       "      <th>...</th>\n",
       "      <td>...</td>\n",
       "      <td>...</td>\n",
       "      <td>...</td>\n",
       "    </tr>\n",
       "    <tr>\n",
       "      <th>49995</th>\n",
       "      <td>133</td>\n",
       "      <td>95</td>\n",
       "      <td>2</td>\n",
       "    </tr>\n",
       "    <tr>\n",
       "      <th>49996</th>\n",
       "      <td>313</td>\n",
       "      <td>780</td>\n",
       "      <td>1</td>\n",
       "    </tr>\n",
       "    <tr>\n",
       "      <th>49997</th>\n",
       "      <td>25</td>\n",
       "      <td>46</td>\n",
       "      <td>1</td>\n",
       "    </tr>\n",
       "    <tr>\n",
       "      <th>49998</th>\n",
       "      <td>400</td>\n",
       "      <td>550</td>\n",
       "      <td>2</td>\n",
       "    </tr>\n",
       "    <tr>\n",
       "      <th>49999</th>\n",
       "      <td>350</td>\n",
       "      <td>584</td>\n",
       "      <td>1</td>\n",
       "    </tr>\n",
       "  </tbody>\n",
       "</table>\n",
       "<p>50000 rows × 3 columns</p>\n",
       "</div>"
      ],
      "text/plain": [
       "       user  item  rating\n",
       "0       186    60       1\n",
       "1       424   947       1\n",
       "2        29   185       3\n",
       "3       207   911       1\n",
       "4       277   302       4\n",
       "...     ...   ...     ...\n",
       "49995   133    95       2\n",
       "49996   313   780       1\n",
       "49997    25    46       1\n",
       "49998   400   550       2\n",
       "49999   350   584       1\n",
       "\n",
       "[50000 rows x 3 columns]"
      ]
     },
     "execution_count": 54,
     "metadata": {},
     "output_type": "execute_result"
    }
   ],
   "source": [
    "synth_df"
   ]
  },
  {
   "cell_type": "code",
   "execution_count": null,
   "metadata": {},
   "outputs": [],
   "source": [
    "import tensorflow as tf\n",
    "import numpy as np\n",
    "import pandas as pd\n",
    "from scipy.stats import f\n",
    "\n",
    "class MANOVAMetric(metrics.Metric):\n",
    "    def __init__(self, name='manova_metric', **kwargs):\n",
    "        super(MANOVAMetric, self).__init__(name=name, **kwargs)\n",
    "        self.real_data = []\n",
    "        self.synthetic_data = []\n",
    "\n",
    "    def update_state(self, y_true, y_pred, sample_weight=None):\n",
    "        self.real_data.append(y_true)\n",
    "        self.synthetic_data.append(y_pred)\n",
    "\n",
    "    def result(self):\n",
    "        real_data = pd.concat(self.real_data, ignore_index=True)\n",
    "        synthetic_data = pd.concat(self.synthetic_data, ignore_index=True)\n",
    "\n",
    "        assert 'user' in real_data.columns and 'item' in real_data.columns and 'rating' in real_data.columns, \\\n",
    "            \"Real data must contain 'user', 'item', and 'rating' columns\"\n",
    "        assert 'user' in synthetic_data.columns and 'item' in synthetic_data.columns and 'rating' in synthetic_data.columns, \\\n",
    "            \"Synthetic data must contain 'user', 'item', and 'rating' columns\"\n",
    "\n",
    "        real_data = real_data.groupby(['user', 'item'], as_index=False).rating.mean()\n",
    "        synthetic_data = synthetic_data.groupby(['user', 'item'], as_index=False).rating.mean()\n",
    "\n",
    "        real_matrix = real_data.pivot(index='user', columns='item', values='rating').fillna(0)\n",
    "        synthetic_matrix = synthetic_data.pivot(index='user', columns='item', values='rating').fillna(0)\n",
    "\n",
    "        common_items = real_matrix.columns.intersection(synthetic_matrix.columns)\n",
    "        real_matrix = real_matrix[common_items]\n",
    "        synthetic_matrix = synthetic_matrix[common_items]\n",
    "\n",
    "        # Check for identical data\n",
    "        if real_matrix.equals(synthetic_matrix):\n",
    "            return 1.0\n",
    "\n",
    "        mean_real = real_matrix.mean(axis=0)\n",
    "        mean_synthetic = synthetic_matrix.mean(axis=0)\n",
    "\n",
    "        overall_mean = pd.concat([real_matrix, synthetic_matrix]).mean(axis=0)\n",
    "\n",
    "        n_real = real_matrix.shape[0]\n",
    "        n_synthetic = synthetic_matrix.shape[0]\n",
    "\n",
    "        SS_between = n_real * np.outer(mean_real - overall_mean, mean_real - overall_mean) + \\\n",
    "                     n_synthetic * np.outer(mean_synthetic - overall_mean, mean_synthetic - overall_mean)\n",
    "\n",
    "        SS_within_real = (real_matrix - mean_real).T @ (real_matrix - mean_real)\n",
    "        SS_within_synthetic = (synthetic_matrix - mean_synthetic).T @ (synthetic_matrix - mean_synthetic)\n",
    "        SS_within = SS_within_real + SS_within_synthetic\n",
    "\n",
    "        # Use pseudo-inverse for numerical stability\n",
    "        W_inv = np.linalg.pinv(SS_within)\n",
    "        T2 = np.trace(np.dot(W_inv, SS_between))\n",
    "\n",
    "        p = real_matrix.shape[1]\n",
    "        df1 = p\n",
    "        df2 = n_real + n_synthetic - p - 1\n",
    "        F = (T2 * df2) / (df1 * (n_real + n_synthetic - df1 - 1))\n",
    "\n",
    "        p_value = 1 - f.cdf(F, df1, df2)\n",
    "\n",
    "        # Print intermediate results for diagnostics\n",
    "        print(f\"Mean Real: {mean_real}\")\n",
    "        print(f\"Mean Synthetic: {mean_synthetic}\")\n",
    "        print(f\"Overall Mean: {overall_mean}\")\n",
    "        print(f\"SS Between: {SS_between}\")\n",
    "        print(f\"SS Within: {SS_within}\")\n",
    "        print(f\"T2: {T2}\")\n",
    "        print(f\"F: {F}\")\n",
    "        print(f\"p-value: {p_value}\")\n",
    "\n",
    "        return p_value\n",
    "\n",
    "    def reset_states(self):\n",
    "        self.real_data = []\n",
    "        self.synthetic_data = []\n"
   ]
  },
  {
   "cell_type": "code",
   "execution_count": null,
   "metadata": {},
   "outputs": [],
   "source": [
    "manova = MANOVAMetric()\n",
    "manova.update_state(df, synth_df)"
   ]
  },
  {
   "cell_type": "code",
   "execution_count": null,
   "metadata": {},
   "outputs": [
    {
     "name": "stdout",
     "output_type": "stream",
     "text": [
      "Mean Real: item\n",
      "1      1.500530\n",
      "2      0.366914\n",
      "3      0.199364\n",
      "4      0.641569\n",
      "5      0.259809\n",
      "         ...   \n",
      "995    0.080594\n",
      "996    0.030753\n",
      "997    0.022269\n",
      "998    0.032874\n",
      "999    0.022269\n",
      "Length: 998, dtype: float64\n",
      "Mean Synthetic: item\n",
      "1      0.034595\n",
      "2      0.042095\n",
      "3      0.038333\n",
      "4      0.064000\n",
      "5      0.010000\n",
      "         ...   \n",
      "995    0.024600\n",
      "996    0.018000\n",
      "997    0.026000\n",
      "998    0.040000\n",
      "999    0.036000\n",
      "Length: 998, dtype: float64\n",
      "Overall Mean: item\n",
      "1      0.992583\n",
      "2      0.254364\n",
      "3      0.143567\n",
      "4      0.441441\n",
      "5      0.173250\n",
      "         ...   \n",
      "995    0.061192\n",
      "996    0.026334\n",
      "997    0.023562\n",
      "998    0.035343\n",
      "999    0.027027\n",
      "Length: 998, dtype: float64\n",
      "SS Between: [[ 7.02174065e+02  1.55586289e+02  7.71325955e+01 ... -1.78695748e+00\n",
      "  -3.41340371e+00 -6.57689750e+00]\n",
      " [ 1.55586289e+02  3.44744906e+01  1.70908822e+01 ... -3.95950371e-01\n",
      "  -7.56334989e-01 -1.45729545e+00]\n",
      " [ 7.71325955e+01  1.70908822e+01  8.47288099e+00 ... -1.96294160e-01\n",
      "  -3.74956439e-01 -7.22460711e-01]\n",
      " ...\n",
      " [-1.78695748e+00 -3.95950371e-01 -1.96294160e-01 ...  4.54761459e-03\n",
      "   8.68674531e-03  1.67374968e-02]\n",
      " [-3.41340371e+00 -7.56334989e-01 -3.74956439e-01 ...  8.68674531e-03\n",
      "   1.65932145e-02  3.19715686e-02]\n",
      " [-6.57689750e+00 -1.45729545e+00 -7.22460711e-01 ...  1.67374968e-02\n",
      "   3.19715686e-02  6.16023616e-02]]\n",
      "SS Within: item          1            2           3    ...        997         998         999\n",
      "item                                        ...                                   \n",
      "1     3725.394659   241.088396  162.237243  ...  26.039127   15.791658   23.866151\n",
      "2      241.088396  1126.003269   67.213323  ...   5.747566   46.783758   42.537090\n",
      "3      162.237243    67.213323  669.479340  ...  -1.684972   18.053058    1.123362\n",
      "4      337.072168   430.669920  187.158275  ...  52.695041   31.831347   31.375041\n",
      "5      178.197119   211.895568   63.964219  ...   9.414008   22.745917   16.364008\n",
      "...           ...          ...         ...  ...        ...         ...         ...\n",
      "995    -73.465818   -11.403243    7.376856  ...   1.987729   -2.990409   -2.135271\n",
      "996      0.173266     5.980634   -5.126548  ...   8.120189   -0.313340   28.030189\n",
      "997     26.039127     5.747566   -1.684972  ...  71.194344   -0.210350    8.064344\n",
      "998     15.791658    46.783758   18.053058  ...  -0.210350  143.180912    2.589650\n",
      "999     23.866151    42.537090    1.123362  ...   8.064344    2.589650  107.884344\n",
      "\n",
      "[998 rows x 998 columns]\n",
      "T2: 15.175395413648468\n",
      "F: 0.015205807027703876\n",
      "p-value: 1.0\n"
     ]
    },
    {
     "data": {
      "text/plain": [
       "1.0"
      ]
     },
     "execution_count": 84,
     "metadata": {},
     "output_type": "execute_result"
    }
   ],
   "source": [
    "manova.result()"
   ]
  }
 ],
 "metadata": {
  "kernelspec": {
   "display_name": ".venv",
   "language": "python",
   "name": "python3"
  },
  "language_info": {
   "codemirror_mode": {
    "name": "ipython",
    "version": 3
   },
   "file_extension": ".py",
   "mimetype": "text/x-python",
   "name": "python",
   "nbconvert_exporter": "python",
   "pygments_lexer": "ipython3",
   "version": "3.11.7"
  }
 },
 "nbformat": 4,
 "nbformat_minor": 2
}
